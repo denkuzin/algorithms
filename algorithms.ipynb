{
 "cells": [
  {
   "cell_type": "code",
   "execution_count": 2,
   "metadata": {},
   "outputs": [],
   "source": [
    "# -*- coding: utf-8 -*-\n",
    "__author__ = \"denkuzin\"\n",
    "\n",
    "import random\n",
    "import numpy as np\n",
    "from IPython.display import Image\n",
    "import time\n",
    "from tqdm import tqdm, tqdm_notebook\n",
    "import unittest\n",
    "import itertools\n",
    "import math\n",
    "import matplotlib.pyplot as plt\n",
    "import multiprocessing\n",
    "import threading\n",
    "import string\n",
    "%matplotlib inline"
   ]
  },
  {
   "cell_type": "markdown",
   "metadata": {},
   "source": [
    "**utils**"
   ]
  },
  {
   "cell_type": "code",
   "execution_count": 4,
   "metadata": {},
   "outputs": [],
   "source": [
    "def generateList(num_elements, minim = 0, maxim = 1000):\n",
    "    num_elements = int(num_elements)\n",
    "    random_list = []\n",
    "    if num_elements <= maxim - minim:\n",
    "        return random.sample(range(minim, maxim), num_elements)\n",
    "    else:\n",
    "        return random_list + generateList(num_elements//2, minim = minim, maxim = maxim) + \\\n",
    "                 generateList(num_elements - num_elements//2, minim = minim, maxim = maxim)\n",
    "        \n",
    "        \n",
    "def isSorted(A):\n",
    "    lenA = len(A)\n",
    "    \n",
    "    ascendingOrder = True\n",
    "    j=0\n",
    "    while j + 1 < lenA:\n",
    "        if A[j] <= A[j+1]:\n",
    "            j = j+1\n",
    "        else:\n",
    "            ascendingOrder = False\n",
    "            break\n",
    "    \n",
    "    if ascendingOrder:\n",
    "        return True\n",
    "    \n",
    "    decreasingOrder = True\n",
    "    j=0\n",
    "    while j + 1 < lenA:\n",
    "        if A[j] >= A[j+1]:\n",
    "            j = j+1\n",
    "        else:\n",
    "            decreasingOrder = False\n",
    "            break\n",
    "    \n",
    "    if decreasingOrder:\n",
    "        return True\n",
    "    return False\n",
    "\n",
    "\n",
    "#python2.7 zip\n",
    "def zip_(*args): \n",
    "    return list(zip(*args))\n",
    "\n",
    "\n",
    "#python2.7 map\n",
    "def map_(*args): \n",
    "    return list(map(*args))\n",
    "\n",
    "\n",
    "#max function for None values\n",
    "def max_(a,b):\n",
    "    if a == None:\n",
    "        return b\n",
    "    else:\n",
    "        return max(a,b)\n",
    "\n",
    "    \n",
    "def min_(a,b):\n",
    "    if a == None:\n",
    "        return b\n",
    "    else:\n",
    "        return min(a,b)\n",
    "\n",
    "    \n",
    "class TestCutRod():\n",
    "    \"\"\"checker of CutRod functions\"\"\"\n",
    "    def __init__(self, num_tests = 200, func = None):\n",
    "        self.num_per_test = num_tests//2\n",
    "        self.func = func\n",
    "        \n",
    "    def testing(self):\n",
    "        results = []\n",
    "        \n",
    "        for _ in range(self.num_per_test):\n",
    "            prices = generateList(2, minim = -100, maxim = 100)\n",
    "            res = self.func(prices, 2)\n",
    "            true_res = max(prices[0]*2,prices[1])    \n",
    "            results.append(true_res==res)\n",
    "            \n",
    "        for i in range(self.num_per_test):\n",
    "            prices = generateList(3, minim = -100, maxim = 100)\n",
    "            res = self.func(prices, 3)\n",
    "            true_res = max(prices[0]*3,prices[0]+prices[1], prices[2])    \n",
    "            results.append(true_res==res)\n",
    "        return results    \n",
    "\n",
    "    def run(self):\n",
    "        time_start = time.time()\n",
    "        results = self.testing()\n",
    "        t = round(time.time() - time_start, 4)\n",
    "        print (\"{num_ok} tests passed out of {num_all} in {t} seconds\".format(\n",
    "                 num_ok=results.count(True), t=t, num_all=len(results)))\n",
    "        \n",
    "        \n",
    "def print_(l, num_digits_after_dot = None):\n",
    "    \"\"\"beatuful print matrix, line per line\"\"\"\n",
    "    #round\n",
    "    if num_digits_after_dot:\n",
    "        l = [[\"%.{}f\".format(num_digits_after_dot) % col if type(col) == float else col \\\n",
    "                       for col in row] for row in l]\n",
    "        \n",
    "    # 1. all--> str:\n",
    "    l = [[str(col) for col in row] for row in l]\n",
    "    num_columns = len(l[0])\n",
    "    max_len = [0]*num_columns\n",
    "    \n",
    "    # 2. find max lenght of elements of each column\n",
    "    for row in l:\n",
    "        for col, item in enumerate(row):\n",
    "            max_len[col] = max(max_len[col], len(item))\n",
    "    \n",
    "    # 3. print\n",
    "    for row in l:\n",
    "        l = [\"{0: >{max_len}}\".format(item, max_len=max_len[col]) for col, item in enumerate(row)]\n",
    "        print (\"  \".join(l))  "
   ]
  },
  {
   "cell_type": "markdown",
   "metadata": {},
   "source": [
    "**heap visualization**\n",
    "\n",
    "https://discuss.leetcode.com/topic/16600/tree-deserializer-and-visualizer-for-python/2"
   ]
  },
  {
   "cell_type": "code",
   "execution_count": 5,
   "metadata": {},
   "outputs": [],
   "source": [
    "import pygraphviz\n",
    "from collections import deque\n",
    "\n",
    "class TreeNode:\n",
    "    def __init__(self, val, left=None, right=None):\n",
    "        self.val = val\n",
    "        self.left = left\n",
    "        self.right = right\n",
    "    def __repr__(self):\n",
    "        return 'TreeNode({})'.format(self.val)\n",
    "\n",
    "def deserialize(string):\n",
    "    if string == '{}':\n",
    "        return None\n",
    "    nodes = [None if val == 'null' else TreeNode(int(val)) \\\n",
    "             for val in string.strip('[]{}').split(',')]\n",
    "    kids = nodes[::-1]\n",
    "    root = kids.pop()\n",
    "    for node in nodes:\n",
    "        if node:\n",
    "            if kids: node.left  = kids.pop()\n",
    "            if kids: node.right = kids.pop()\n",
    "    return root\n",
    "\n",
    "def build_graph(root):\n",
    "    # https://pygraphviz.github.io/documentation/latest/tutorial.html\n",
    "    G = pygraphviz.AGraph(strict=True) #directed=True)\n",
    "\n",
    "    # http://www.graphviz.org/content/attrs#dordering\n",
    "    G.graph_attr[\"rankdir\"] = \"TB\"\n",
    "    G.graph_attr[\"splines\"] = \"line\"\n",
    "    G.graph_attr[\"ordering\"] = \"out\"\n",
    "    G.layout(prog='dot')\n",
    "\n",
    "    # http://stackoverflow.com/questions/279561/what-is-the-python-equivalent-of-static-variables-inside-a-function\n",
    "    def _id(node, _static={\"seq\":0}):\n",
    "        if node: return id(node)\n",
    "        _static[\"seq\"] += 1\n",
    "        return \"_%d\" % _static[\"seq\"]\n",
    "\n",
    "    def graphviz_customize(node):\n",
    "        return {\n",
    "            \"label\": node.val if node else \"#\",\n",
    "            \"shape\": \"circle\" if node else \"oval\",\n",
    "            \"color\": \"blue\" if node else \"darkblue\",\n",
    "            \"fontsize\": 10,\n",
    "            \"width\": 0.05 if node else 0.02, # in inches\n",
    "            \"height\": 0.02 if node else 0.02,\n",
    "        }\n",
    "\n",
    "    if not root:\n",
    "        id_root = _id(root)\n",
    "        G.add_node(id_root, **graphviz_customize(root))\n",
    "        return G\n",
    "\n",
    "    wq = deque([(root, _id(root), \"\", 0)])\n",
    "    count = 1\n",
    "    while count and wq:\n",
    "        node, id_node, id_parent, right_child = wq.popleft()\n",
    "\n",
    "        G.add_node(id_node, **graphviz_customize(node))\n",
    "        if id_parent:\n",
    "            if right_child:\n",
    "                G.add_edge(id_parent, id_node, color='black', style='solid')\n",
    "            else:\n",
    "                G.add_edge(id_parent, id_node, color='black', style='solid')\n",
    "\n",
    "        if not node: continue\n",
    "\n",
    "        count -= 1\n",
    "        for idx, nd in enumerate((node.left, node.right)):\n",
    "            if nd:\n",
    "                count += 1\n",
    "            wq.append((nd, _id(nd), id_node, idx))\n",
    "    return G\n",
    "\n",
    "from io import BytesIO\n",
    "from IPython.display import Image, display\n",
    "\n",
    "def display_graph(G):\n",
    "    # https://github.com/chebee7i/nxpd/blob/master/nxpd/ipythonsupport.py\n",
    "    imgbuf = BytesIO()\n",
    "    G.draw(imgbuf, format='png' , prog='dot')\n",
    "    img = Image(imgbuf.getvalue())\n",
    "    display(img)\n",
    "\n",
    "def display_heap(Array):\n",
    "    root = deserialize(str(Array))\n",
    "    G = build_graph(root)\n",
    "    display_graph(G)"
   ]
  },
  {
   "cell_type": "markdown",
   "metadata": {},
   "source": [
    "#### unicode"
   ]
  },
  {
   "cell_type": "code",
   "execution_count": 5,
   "metadata": {},
   "outputs": [
    {
     "data": {
      "text/plain": [
       "97"
      ]
     },
     "execution_count": 5,
     "metadata": {},
     "output_type": "execute_result"
    }
   ],
   "source": [
    "#get ASCII value of a character\n",
    "ord('a')"
   ]
  },
  {
   "cell_type": "code",
   "execution_count": 6,
   "metadata": {},
   "outputs": [
    {
     "data": {
      "text/plain": [
       "'a'"
      ]
     },
     "execution_count": 6,
     "metadata": {},
     "output_type": "execute_result"
    }
   ],
   "source": [
    "#get character of ASCII value\n",
    "chr(97)"
   ]
  },
  {
   "cell_type": "markdown",
   "metadata": {},
   "source": [
    "a Unicode string is a sequence of code points, which are numbers from 0 through 0x10FFFF (1,114,111 decimal, UTF-16 version). This sequence needs to be represented as a set of bytes (meaning, values from 0 through 255) in memory. The rules for translating a Unicode string into a sequence of bytes are called an **encoding**."
   ]
  },
  {
   "cell_type": "markdown",
   "metadata": {},
   "source": [
    "UTF-8 has several convenient properties:\n",
    "\n",
    "1. It can handle any Unicode code point.\n",
    "2. A Unicode string is turned into a sequence of bytes containing no embedded zero bytes. This avoids byte-ordering issues, and means UTF-8 strings can be processed by C functions such as strcpy() and sent through protocols that can’t handle zero bytes.\n",
    "3. A string of ASCII text is also valid UTF-8 text.\n",
    "4. UTF-8 is fairly compact; the majority of commonly used characters can be represented with one or two bytes.\n",
    "5. If bytes are corrupted or lost, it’s possible to determine the start of the next UTF-8-encoded code point and resynchronize. It’s also unlikely that random 8-bit data will look like valid UTF-8.\n"
   ]
  },
  {
   "cell_type": "code",
   "execution_count": 7,
   "metadata": {},
   "outputs": [
    {
     "data": {
      "text/plain": [
       "'ꀀabcd\\u07b4'"
      ]
     },
     "execution_count": 7,
     "metadata": {},
     "output_type": "execute_result"
    }
   ],
   "source": [
    "u = chr(40960) + 'abcd' + chr(1972)\n",
    "u"
   ]
  },
  {
   "cell_type": "code",
   "execution_count": 8,
   "metadata": {},
   "outputs": [
    {
     "data": {
      "text/plain": [
       "b'\\xea\\x80\\x80abcd\\xde\\xb4'"
      ]
     },
     "execution_count": 8,
     "metadata": {},
     "output_type": "execute_result"
    }
   ],
   "source": [
    "byte_code = u.encode('utf-8')   # return an encoded version of the string as a bytes object\n",
    "byte_code"
   ]
  },
  {
   "cell_type": "code",
   "execution_count": 9,
   "metadata": {},
   "outputs": [
    {
     "data": {
      "text/plain": [
       "'ꀀabcd\\u07b4'"
      ]
     },
     "execution_count": 9,
     "metadata": {},
     "output_type": "execute_result"
    }
   ],
   "source": [
    "byte_code.decode('utf-8')    # return a string decoded from the given bytes"
   ]
  },
  {
   "cell_type": "markdown",
   "metadata": {},
   "source": [
    "## shuffle algorithm "
   ]
  },
  {
   "cell_type": "code",
   "execution_count": 10,
   "metadata": {},
   "outputs": [],
   "source": [
    "def analyse_stats(stats):\n",
    "    stats = np.array(stats)\n",
    "    plt.plot(stats[:,0], stats[:,1])\n",
    "    plt.grid(); plt.xlabel(\"size\"); plt.ylabel(\"time, sec\")\n",
    "    plt.show()"
   ]
  },
  {
   "cell_type": "markdown",
   "metadata": {},
   "source": [
    "**Fisher–Yates algorithm, build to python**"
   ]
  },
  {
   "cell_type": "raw",
   "metadata": {},
   "source": [
    "Advantages of Fisher-Yates algorithm:\n",
    "(1) asymptotic time and space complexity are optimal. O(N) time and O(1) space\n",
    "(2) guaranteed to produce unbiased results\n",
    "(3) can be stopped halfway through, or even stopped and restarted repeatedly, generating the permutation incrementally as needed\n",
    "(4) is sequential not parallel\n",
    "\n",
    "Other algorithms to shuffle:\n",
    "assigns a random number to each element of the set to be shuffled and then sorts (can use Radix sort) the set according to the assigned numbers\n",
    "(1) although general sorting is O(nlogn), numbers are efficiently sorted using Radix sort in O(n) time\n",
    "(2) required additional O(n) space (!) Bad idea for Big Data\n",
    "(3) produces unbiased results\n",
    "(4) has a simple parallel implementation"
   ]
  },
  {
   "cell_type": "code",
   "execution_count": 11,
   "metadata": {},
   "outputs": [
    {
     "data": {
      "image/png": "[encoded data removed]",
      "text/plain": [
       "<matplotlib.figure.Figure at 0x7f7535dec9b0>"
      ]
     },
     "metadata": {},
     "output_type": "display_data"
    }
   ],
   "source": [
    "stats = []\n",
    "for i in range(7):\n",
    "    lenL = 10**i\n",
    "    L = list(range(lenL))\n",
    "    ts = time.time()\n",
    "    random.shuffle(L)\n",
    "    t  = time.time() - ts\n",
    "    stats.append((lenL,t))\n",
    "analyse_stats(stats)"
   ]
  },
  {
   "cell_type": "markdown",
   "metadata": {},
   "source": [
    "**Fisher–Yates algorithm, custom implementation**"
   ]
  },
  {
   "cell_type": "code",
   "execution_count": 4,
   "metadata": {},
   "outputs": [
    {
     "data": {
      "image/png": "[encoded data removed]",
      "text/plain": [
       "<matplotlib.figure.Figure at 0x7f6cd2e0a550>"
      ]
     },
     "metadata": {},
     "output_type": "display_data"
    }
   ],
   "source": [
    "def customShuffle(A, s, e):\n",
    "    \"\"\"\n",
    "    A - list to shuffle, s - start index, e - end index\n",
    "    shuffled part is A[s:e]\n",
    "    \"\"\"\n",
    "    e1 = e - 1\n",
    "    delta = e-s\n",
    "    for i in range(s,e):\n",
    "        j = int(random.random() * delta + s)\n",
    "        A[i], A[j] = A[j], A[i]\n",
    "        \n",
    "stats = []\n",
    "for i in reversed(range(7)):\n",
    "    lenL = 10**i\n",
    "    L = list(range(lenL))\n",
    "    ts = time.time()\n",
    "    customShuffle(L, 0, lenL)\n",
    "    t  = time.time() - ts\n",
    "    stats.append((lenL,t))\n",
    "analyse_stats(stats)"
   ]
  },
  {
   "cell_type": "markdown",
   "metadata": {},
   "source": [
    "### Incertion sort"
   ]
  },
  {
   "cell_type": "code",
   "execution_count": 4,
   "metadata": {
    "collapsed": true
   },
   "outputs": [],
   "source": [
    "def sort_incertion(List, reverse = False): \n",
    "    if reverse:\n",
    "        for j in range(1, len(List)):\n",
    "            key = List[j]\n",
    "            i = j-1\n",
    "            while i>=0 and List[i]<key:\n",
    "                List[i+1]=List[i]\n",
    "                i = i - 1\n",
    "            List[i+1] = key\n",
    "    else:   \n",
    "        for j in range(1, len(List)):\n",
    "            key = List[j]\n",
    "            i = j-1\n",
    "            while i>=0 and List[i]>key:\n",
    "                List[i+1]=List[i]\n",
    "                i = i - 1\n",
    "            List[i+1] = key"
   ]
  },
  {
   "cell_type": "code",
   "execution_count": 5,
   "metadata": {},
   "outputs": [
    {
     "name": "stdout",
     "output_type": "stream",
     "text": [
      "[997, 998, 998, 999, 999]\n",
      "CPU times: user 256 ms, sys: 0 ns, total: 256 ms\n",
      "Wall time: 257 ms\n"
     ]
    }
   ],
   "source": [
    "%%time\n",
    "l = generateList(2000)\n",
    "sort_incertion(l, reverse = False)\n",
    "print (l[-5:])"
   ]
  },
  {
   "cell_type": "markdown",
   "metadata": {},
   "source": [
    "### Merge sort"
   ]
  },
  {
   "cell_type": "code",
   "execution_count": 6,
   "metadata": {
    "collapsed": true
   },
   "outputs": [],
   "source": [
    "def merge(List, start, middle, end):\n",
    "    len1 = middle - start\n",
    "    len2 = end - middle\n",
    "    left = List[start:middle]\n",
    "    right = List[middle:end]\n",
    "    i,j,k = 0,0,start\n",
    "    while i < len1 and j < len2:\n",
    "        if left[i] < right[j]:\n",
    "                List[k] = left[i] \n",
    "                i += 1\n",
    "        else:\n",
    "                List[k] = right[j]\n",
    "                j += 1\n",
    "        k += 1\n",
    "        \n",
    "    if i == len1:\n",
    "        while j < len2:\n",
    "                List[k] = right[j]\n",
    "                j += 1; k += 1\n",
    "    elif j == len2 :\n",
    "        while i < len1 :\n",
    "                List[k] = left[i]\n",
    "                i += 1; k += 1\n",
    "\n",
    "def sort_merge(List, start, end, reverse = False): \n",
    "    if start < end-1:       \n",
    "        middle = (start + end) // 2\n",
    "        sort_merge(List, start, middle)\n",
    "        sort_merge(List, middle, end)\n",
    "        merge(List, start, middle, end)"
   ]
  },
  {
   "cell_type": "code",
   "execution_count": 7,
   "metadata": {},
   "outputs": [
    {
     "name": "stdout",
     "output_type": "stream",
     "text": [
      "[0, 0, 0, 0, 0]\n",
      "CPU times: user 168 ms, sys: 0 ns, total: 168 ms\n",
      "Wall time: 170 ms\n"
     ]
    }
   ],
   "source": [
    "%%time\n",
    "l = generateList(20000)\n",
    "sort_merge(l,0,len(l), reverse = False)\n",
    "print (l[:5])"
   ]
  },
  {
   "cell_type": "markdown",
   "metadata": {},
   "source": [
    "### Merge Sort algorithm analysis"
   ]
  },
  {
   "cell_type": "code",
   "execution_count": 8,
   "metadata": {
    "collapsed": true
   },
   "outputs": [],
   "source": [
    "def merge(List, start, middle, end):\n",
    "    len1 = middle - start                    # O(1)\n",
    "    len2 = end - middle                      # O(1)\n",
    "    left = List[start:middle]                # O(n/2)\n",
    "    right = List[middle:end]                 # O(n/2)\n",
    "    i,j,k = 0,0,start                        # O(1)\n",
    "    while i < len1 and j < len2:                     #\n",
    "        if left[i] < right[j]:                       #\n",
    "                List[k] = left[i]                    #\n",
    "                i += 1                               #  O(n)\n",
    "        else:                                        #  проходим по всем элементам от start to end\n",
    "                List[k] = right[j]                   #  критический случай start = 0, end equals n => O(n)\n",
    "                j += 1                               #\n",
    "        k += 1                                       #\n",
    "                                                     #\n",
    "    if i == len1:                                    #\n",
    "        while j < len2:                              #\n",
    "                List[k] = right[j]                   #\n",
    "                j += 1; k += 1                       #   \n",
    "    elif j == len2 :                                 #   \n",
    "        while i < len1 :                             #\n",
    "                List[k] = left[i]                    \n",
    "                i += 1; k += 1                       #  total: O(n)  #~2n\n",
    "\n",
    "def sort_merge(List, start, end, reverse = False): \n",
    "    if start < end-1:                                  # O(1) \n",
    "        middle = (start + end) // 2                     # O(1)\n",
    "        sort_merge(List, start, middle)                # T(n/2)\n",
    "        sort_merge(List, middle, end)                  # T(n/2)\n",
    "        merge(List, start, middle, end)                # O(n)\n",
    "#generateList(100, minim = 0, maxim = 1000)\n",
    "\n",
    "#so, T(n) = 2*T(n/2) + O(n); T(2) = 1\n",
    "#or: T(n) = 2*T(n/2) + const*n; T(2) = 1"
   ]
  },
  {
   "cell_type": "markdown",
   "metadata": {},
   "source": [
    "### Bubble sort"
   ]
  },
  {
   "cell_type": "code",
   "execution_count": 9,
   "metadata": {
    "collapsed": true
   },
   "outputs": [],
   "source": [
    "def sort_bubble(List, reverse = False):\n",
    "    lenList = len(List)\n",
    "    i = 0\n",
    "    while i < lenList:\n",
    "        j = lenList-1\n",
    "        while j >= i:\n",
    "            if List[j] < List[j-1]:\n",
    "                List[j], List[j-1] = List[j-1], List[j]\n",
    "            j -= 1\n",
    "        i += 1"
   ]
  },
  {
   "cell_type": "code",
   "execution_count": 10,
   "metadata": {},
   "outputs": [
    {
     "name": "stdout",
     "output_type": "stream",
     "text": [
      "[0, 0, 0, 0, 1]\n",
      "CPU times: user 2.54 s, sys: 0 ns, total: 2.54 s\n",
      "Wall time: 2.55 s\n"
     ]
    }
   ],
   "source": [
    "%%time\n",
    "l = generateList(4000)\n",
    "sort_bubble(l, reverse = False)\n",
    "print (l[:5])"
   ]
  },
  {
   "cell_type": "markdown",
   "metadata": {},
   "source": [
    "### Max sub sequence problem"
   ]
  },
  {
   "cell_type": "markdown",
   "metadata": {
    "collapsed": true
   },
   "source": [
    "Problem:\n",
    "\n",
    "We have stock price history. Find maximum of maney we can earn."
   ]
  },
  {
   "cell_type": "code",
   "execution_count": 11,
   "metadata": {
    "collapsed": true
   },
   "outputs": [],
   "source": [
    "input_price = [81,82,85,83,87,84,82,85,83,84,87,87,84,82,84,83,86,87,82,82]"
   ]
  },
  {
   "cell_type": "markdown",
   "metadata": {
    "collapsed": true
   },
   "source": [
    "Let's find deltas between prices. So, now we have to find subarray with maximun od sum of elements. Sum elements of maximum subarray is maximum maney we can earn."
   ]
  },
  {
   "cell_type": "code",
   "execution_count": 12,
   "metadata": {
    "collapsed": true
   },
   "outputs": [],
   "source": [
    "deltas = [ a - b for a,b in zip(input_price[1:], input_price[:-1]) ]"
   ]
  },
  {
   "cell_type": "code",
   "execution_count": 13,
   "metadata": {},
   "outputs": [
    {
     "data": {
      "text/plain": [
       "[1, 3, -2, 4, -3, -2, 3, -2, 1, 3, 0, -3, -2, 2, -1, 3, 1, -5, 0]"
      ]
     },
     "execution_count": 13,
     "metadata": {},
     "output_type": "execute_result"
    }
   ],
   "source": [
    "deltas"
   ]
  },
  {
   "cell_type": "markdown",
   "metadata": {
    "collapsed": true
   },
   "source": [
    "let's use **divide-and-conquer** algorithm"
   ]
  },
  {
   "cell_type": "code",
   "execution_count": 14,
   "metadata": {
    "collapsed": true
   },
   "outputs": [],
   "source": [
    "def FindMaxCrossingSubarray(A, low, mid, high):\n",
    "    left_sum = 0 ; max_left = mid\n",
    "    summa = 0; i = mid - 1\n",
    "    while i >= low:\n",
    "        summa += A[i]\n",
    "        if summa > left_sum:\n",
    "            left_sum = summa\n",
    "            max_left = i\n",
    "        i -= 1\n",
    "    right_sum = 0; max_right = mid\n",
    "    summa = 0; j = mid\n",
    "    while j < high:\n",
    "        summa += A[j]\n",
    "        if summa > right_sum:\n",
    "            right_sum = summa\n",
    "            max_right = j\n",
    "        j += 1\n",
    "    return max_left, max_right, left_sum + right_sum\n",
    "\n",
    "def FindMaximumSubarray(A,low,high):\n",
    "    if high - 1 == low:\n",
    "        return (low,high,A[low])    #base case: only 1 element\n",
    "    else:\n",
    "        mid = (low+high)//2\n",
    "        left_low, left_high, left_sum = FindMaximumSubarray(A,low,mid)\n",
    "        right_low,right_high, right_sum = FindMaximumSubarray(A,mid,high)\n",
    "        cross_low, cross_high, cross_sum = FindMaxCrossingSubarray(A, low, mid, high)\n",
    "        \n",
    "        if left_sum > right_sum and left_sum > cross_sum:\n",
    "            return left_low, left_high, left_sum\n",
    "        elif right_sum > left_sum and right_sum > cross_sum:\n",
    "            return right_low, right_high, right_sum\n",
    "        else:\n",
    "            return cross_low, cross_high, cross_sum"
   ]
  },
  {
   "cell_type": "code",
   "execution_count": 15,
   "metadata": {},
   "outputs": [
    {
     "data": {
      "text/plain": [
       "(0, 9, 6)"
      ]
     },
     "execution_count": 15,
     "metadata": {},
     "output_type": "execute_result"
    }
   ],
   "source": [
    "FindMaximumSubarray(deltas,0,len(deltas))"
   ]
  },
  {
   "cell_type": "markdown",
   "metadata": {
    "collapsed": true
   },
   "source": [
    "### Solve recursion equation"
   ]
  },
  {
   "cell_type": "markdown",
   "metadata": {
    "collapsed": true
   },
   "source": [
    " good article:\n",
    " http://www.math.kth.se/math/student/courses/5B1203/F/200304/linrek.pdf\n",
    " \n",
    " merge sort:\n",
    " \n",
    " T(n) = 2*T(n/2) + 2*n\n",
    " \n",
    " T(2) = 1"
   ]
  },
  {
   "cell_type": "code",
   "execution_count": 16,
   "metadata": {},
   "outputs": [
    {
     "data": {
      "image/png": "[encoded data removed]",
      "text/plain": [
       "<matplotlib.figure.Figure at 0x7f63227ede48>"
      ]
     },
     "metadata": {},
     "output_type": "display_data"
    }
   ],
   "source": [
    "import matplotlib.pyplot as plt\n",
    "import numpy as np\n",
    "%matplotlib inline\n",
    "\n",
    "def solve_recursion(n):\n",
    "    if n <= 2:\n",
    "        return 1\n",
    "    else:\n",
    "        n = n//2\n",
    "        return 2*solve_recursion(n) + 2*n\n",
    "    \n",
    "x = range(1,10000000000,1000000)\n",
    "y = []; y_check = [];\n",
    "check_func = lambda x: x*np.log2(x)\n",
    "\n",
    "for el in x:\n",
    "    y.append(solve_recursion(el))\n",
    "    y_check.append(check_func(el))\n",
    "\n",
    "plt.plot(x,y, 'g.')\n",
    "plt.plot(x,y_check, 'r.')\n",
    "plt.show()"
   ]
  },
  {
   "cell_type": "markdown",
   "metadata": {
    "collapsed": true
   },
   "source": [
    "### Heap sort"
   ]
  },
  {
   "cell_type": "code",
   "execution_count": 17,
   "metadata": {
    "collapsed": true
   },
   "outputs": [],
   "source": [
    "def getParent(i):\n",
    "    if i <= 0:\n",
    "        return -1\n",
    "    else:\n",
    "        return (i-1)//2\n",
    "def getLeft(i):\n",
    "    return i*2+1\n",
    "def getRight(i):\n",
    "    return 2*(i+1)\n",
    "\n",
    "def maxHeapify(A,i, heap_size): # for 1 thread\n",
    "               # heap_size is num of elements in array\n",
    "    l = getLeft(i)\n",
    "    r = getRight(i)\n",
    "    \n",
    "    largest = i\n",
    "    if l < heap_size:\n",
    "        if A[l] > A[i]:\n",
    "            largest = l\n",
    "\n",
    "    if r < heap_size:\n",
    "        if A[r] > A[largest]:\n",
    "            largest = r\n",
    "\n",
    "    if largest != i:\n",
    "        A[i], A[largest] = A[largest], A[i]\n",
    "        maxHeapify(A,largest,heap_size)\n",
    "        \n",
    "def buildMaxHeap(A):\n",
    "    lenA = len(A)\n",
    "    for i in range(0,len(A)//2)[::-1]:\n",
    "        maxHeapify(A,i,lenA)"
   ]
  },
  {
   "cell_type": "code",
   "execution_count": 18,
   "metadata": {},
   "outputs": [
    {
     "data": {
      "image/png": "[encoded data removed]",
      "text/plain": [
       "<IPython.core.display.Image object>"
      ]
     },
     "metadata": {},
     "output_type": "display_data"
    },
    {
     "data": {
      "image/png": "[encoded data removed]",
      "text/plain": [
       "<IPython.core.display.Image object>"
      ]
     },
     "metadata": {},
     "output_type": "display_data"
    }
   ],
   "source": [
    "A = generateList(15, maxim = 100)\n",
    "display_heap(A)\n",
    "buildMaxHeap(A)\n",
    "display_heap(A)"
   ]
  },
  {
   "cell_type": "code",
   "execution_count": 19,
   "metadata": {},
   "outputs": [
    {
     "name": "stdout",
     "output_type": "stream",
     "text": [
      "[2, 11, 16, 20, 24, 54, 61, 71, 87, 88, 89, 90, 94, 95, 99]\n"
     ]
    }
   ],
   "source": [
    "A = generateList(15, maxim = 100)\n",
    "def heapSort(A):\n",
    "    buildMaxHeap(A)\n",
    "    heapSize = len(A)\n",
    "    for i in range(len(A)-1, 0, -1):\n",
    "        A[0],A[i] = A[i], A[0]\n",
    "        heapSize = heapSize - 1\n",
    "        maxHeapify(A,0,heapSize)\n",
    "heapSort(A)\n",
    "print (A)"
   ]
  },
  {
   "cell_type": "markdown",
   "metadata": {},
   "source": [
    "### Quicksort"
   ]
  },
  {
   "cell_type": "code",
   "execution_count": 20,
   "metadata": {
    "collapsed": true
   },
   "outputs": [],
   "source": [
    "def partition(A,p,r):\n",
    "    \"\"\"\n",
    "    reorder the array so that all elements with values less than the pivot \n",
    "    come before the pivot, while all elements with values greater than \n",
    "    the pivot come after it (equal values can go either way); \n",
    "    function returns pivot index\n",
    "    \"\"\"\n",
    "    x = A[r]\n",
    "    i = p - 1\n",
    "    #all elements the fewer the last element \n",
    "    # we send to first positions of the list\n",
    "    for j in range(p,r):\n",
    "        if A[j] <= x:\n",
    "            i += 1\n",
    "            A[i], A[j] = A[j], A[i]\n",
    "\n",
    "    A[i+1], A[r] = A[r], A[i+1]\n",
    "    return i+1\n",
    "    \n",
    "def quicksort(A,p,r):\n",
    "    if p<r:\n",
    "        q = partition(A,p,r)\n",
    "        quicksort(A,p,q-1)\n",
    "        quicksort(A,q+1,r)"
   ]
  },
  {
   "cell_type": "code",
   "execution_count": 21,
   "metadata": {},
   "outputs": [
    {
     "name": "stdout",
     "output_type": "stream",
     "text": [
      "[90, 247, 828, 635, 878, 55, 868, 236, 490, 455, 773, 599, 315, 988, 729]\n",
      "[55, 90, 236, 247, 315, 455, 490, 599, 635, 729, 773, 828, 868, 878, 988]\n",
      "True\n"
     ]
    }
   ],
   "source": [
    "A = generateList(15, maxim = 1000)\n",
    "print (A)\n",
    "quicksort(A, 0,len(A)-1)\n",
    "print (A)\n",
    "print (isSorted(A))"
   ]
  },
  {
   "cell_type": "markdown",
   "metadata": {},
   "source": [
    "### Randomized Quicksort"
   ]
  },
  {
   "cell_type": "code",
   "execution_count": 22,
   "metadata": {
    "collapsed": true
   },
   "outputs": [],
   "source": [
    "def rand_partition(A,p,r):\n",
    "    i = random.randint(p,r)\n",
    "    A[r], A[i] = A[i], A[r]\n",
    "    return partition(A,p,r)\n",
    "\n",
    "def rand_quicksort(A,p,r):\n",
    "    \"\"\"\n",
    "    the main difference from quicksort algo is the pivot element \n",
    "    is random selected (not the last one)\n",
    "    \"\"\"  \n",
    "    if p < r:\n",
    "        q = rand_partition(A,p,r)\n",
    "        rand_quicksort(A,p,q-1)\n",
    "        rand_quicksort(A,q+1,r)"
   ]
  },
  {
   "cell_type": "code",
   "execution_count": 23,
   "metadata": {},
   "outputs": [
    {
     "name": "stdout",
     "output_type": "stream",
     "text": [
      "[714, 239, 943, 275, 230, 82, 593, 647, 969, 236, 315, 890, 637, 128, 539]\n",
      "[82, 128, 230, 236, 239, 275, 315, 539, 593, 637, 647, 714, 890, 943, 969]\n",
      "True\n"
     ]
    }
   ],
   "source": [
    "A = generateList(15, maxim = 1000)\n",
    "print (A)\n",
    "rand_quicksort(A, 0,len(A)-1)\n",
    "print (A)\n",
    "print (isSorted(A))"
   ]
  },
  {
   "cell_type": "markdown",
   "metadata": {
    "collapsed": true
   },
   "source": [
    "### Counting sort\n",
    "**(for positive integers)**"
   ]
  },
  {
   "cell_type": "code",
   "execution_count": 24,
   "metadata": {
    "collapsed": true
   },
   "outputs": [],
   "source": [
    "def counting_sort(A):\n",
    "    lenA = len(A)\n",
    "    k = max(A)\n",
    "    C = [0]*(k+1)  #auxiliary array, (k+1) possible valies\n",
    "    \n",
    "    for j in range(lenA):\n",
    "        C[A[j]] = C[A[j]] + 1\n",
    "    #C[i] contains the number of elements equal to i\n",
    "\n",
    "    for k in range(1,k+1):\n",
    "        C[k] = C[k]+C[k-1]\n",
    "    #now C[i] contains number of elements less then or equal to i\n",
    "    \n",
    "    B = [0]*lenA  #output array\n",
    "    \n",
    "    for j in range(lenA)[::-1]:\n",
    "        B[C[A[j]] - 1] = A[j]\n",
    "        C[A[j]] = C[A[j]] - 1\n",
    "        \n",
    "    A[:] = B"
   ]
  },
  {
   "cell_type": "code",
   "execution_count": 25,
   "metadata": {
    "collapsed": true
   },
   "outputs": [],
   "source": [
    "def counting_sort_DenisWay(A):\n",
    "    lenA = len(A)\n",
    "    k = max(A)\n",
    "    C = [0]*(k+1)  #auxiliary array, (k+1) possible valies\n",
    "    \n",
    "    #C[i] will contain the number of elements equal to i:\n",
    "    j = 0\n",
    "    while j < lenA:\n",
    "        C[A[j]] = C[A[j]] + 1\n",
    "        j += 1\n",
    "\n",
    "    #reveal C:\n",
    "    j = 0\n",
    "    indC = 0\n",
    "    while indC < k + 1:\n",
    "        c = 0\n",
    "        while c < C[indC]:\n",
    "            A[j] = indC\n",
    "            c += 1\n",
    "            j += 1\n",
    "        indC += 1"
   ]
  },
  {
   "cell_type": "code",
   "execution_count": 26,
   "metadata": {},
   "outputs": [
    {
     "name": "stdout",
     "output_type": "stream",
     "text": [
      "[49556, 371781, 566865, 713236, 33970, 427132, 61446, 601639, 568020, 918585]\n",
      "[0, 1, 2, 3, 4, 5, 6, 7, 8, 9]\n",
      "CPU times: user 3.4 s, sys: 60 ms, total: 3.46 s\n",
      "Wall time: 3.46 s\n"
     ]
    }
   ],
   "source": [
    "%%time\n",
    "A = generateList(10**6, maxim = 10**6)\n",
    "print (A[:10])\n",
    "counting_sort(A)\n",
    "print (A[:10])\n",
    "isSorted(A)"
   ]
  },
  {
   "cell_type": "code",
   "execution_count": 27,
   "metadata": {},
   "outputs": [
    {
     "name": "stdout",
     "output_type": "stream",
     "text": [
      "[276376, 930947, 441428, 814931, 96810, 830552, 273588, 743687, 503001, 751253]\n",
      "[0, 1, 2, 3, 4, 5, 6, 7, 8, 9]\n",
      "CPU times: user 2.83 s, sys: 16 ms, total: 2.85 s\n",
      "Wall time: 2.85 s\n"
     ]
    }
   ],
   "source": [
    "%%time\n",
    "A = generateList(10**6, maxim = 10**6)\n",
    "print (A[:10])\n",
    "counting_sort_DenisWay(A)\n",
    "print (A[:10])\n",
    "isSorted(A)"
   ]
  },
  {
   "cell_type": "markdown",
   "metadata": {
    "collapsed": true
   },
   "source": [
    "### Bucket sort\n",
    "**(for values in range [0,1))**"
   ]
  },
  {
   "cell_type": "code",
   "execution_count": 28,
   "metadata": {
    "collapsed": true
   },
   "outputs": [],
   "source": [
    "A = np.linspace(0,1.0,num=19, endpoint = False); \n",
    "A = [round(x,2) for x in A]\n",
    "np.random.shuffle(A)"
   ]
  },
  {
   "cell_type": "code",
   "execution_count": 29,
   "metadata": {
    "collapsed": true
   },
   "outputs": [],
   "source": [
    "def bucket_sort(A):\n",
    "    \"\"\"\n",
    "    1. putting each A[i] element to corresponded bucket\n",
    "    2. sort each non-empty bucket\n",
    "    3. concentrate the elements in buckets\n",
    "    \"\"\"\n",
    "    B = [[] for _ in range(10)]\n",
    "    for i in range(len(A)):\n",
    "        index = int(10*A[i])\n",
    "        B[index].append(A[i])\n",
    "        \n",
    "    #sort each bucket and \n",
    "    for i in range(10):\n",
    "        sort_incertion(B[i])\n",
    "            \n",
    "    #concentrate the lists B[i] together in order\n",
    "    k = 0\n",
    "    for i in range(10):\n",
    "        lenBi = len(B[i])\n",
    "        A[k:k+lenBi] = B[i]\n",
    "        k = k + lenBi"
   ]
  },
  {
   "cell_type": "code",
   "execution_count": 30,
   "metadata": {},
   "outputs": [
    {
     "name": "stdout",
     "output_type": "stream",
     "text": [
      "[ 0.    0.05  0.1   0.15  0.2   0.25  0.3   0.35  0.4   0.45]\n",
      "[ 0.4   0.1   0.2   0.35  0.05  0.65  0.8   0.7   0.45  0.9 ]\n",
      "[ 0.    0.05  0.1   0.15  0.2   0.25  0.3   0.35  0.4   0.45]\n"
     ]
    }
   ],
   "source": [
    "A = np.linspace(0,1.0,num=20, endpoint = False);\n",
    "#A = [round(x,2) for x in A]\n",
    "print (A[:10])\n",
    "np.random.shuffle(A)\n",
    "print (A[:10])\n",
    "bucket_sort(A)\n",
    "print (A[:10])"
   ]
  },
  {
   "cell_type": "markdown",
   "metadata": {},
   "source": [
    "### Minimum and Maximum"
   ]
  },
  {
   "cell_type": "code",
   "execution_count": 31,
   "metadata": {
    "collapsed": true
   },
   "outputs": [],
   "source": [
    "def minimum(A):  #n operations, O(n)\n",
    "    lenA = len(A)\n",
    "    m = A[0]\n",
    "    for i in range(1,lenA):\n",
    "        if A[i] < m:\n",
    "            m = A[i]\n",
    "    return m\n",
    "\n",
    "def maximun(A):  #n operations, O(n)\n",
    "    lenA = len(A)\n",
    "    m = A[0]\n",
    "    for i in range(1,lenA):\n",
    "        if A[i] > m:\n",
    "            m = A[i]\n",
    "    return m\n",
    "\n",
    "def both_max_min(A):   # 1.5n operations, O(n)\n",
    "    mini = A[0]\n",
    "    maxi = A[0]\n",
    "    lenA = len(A)\n",
    "    i = 1\n",
    "    while i+1 < lenA:\n",
    "        if A[i+1]>=A[i]:\n",
    "            if A[i+1] > maxi:\n",
    "                maxi = A[i+1]\n",
    "            if A[i] < mini:\n",
    "                mini = A[i]\n",
    "        else:\n",
    "            if A[i] > maxi:\n",
    "                maxi = A[i]\n",
    "            if A[i+1] < mini:\n",
    "                mini = A[i+1]\n",
    "        i += 2\n",
    "    if i == lenA-1:\n",
    "        if A[i]> maxi:\n",
    "            maxi = A[i]\n",
    "        elif A[i] < mini:\n",
    "            mini = A[i]\n",
    "    return mini, maxi"
   ]
  },
  {
   "cell_type": "code",
   "execution_count": 32,
   "metadata": {},
   "outputs": [
    {
     "name": "stdout",
     "output_type": "stream",
     "text": [
      "[11, 225, 345, 699, 249, 796, 121, 131, 582, 355, 950, 459, 223, 567, 471, 813]\n",
      "the minimum is 11\n",
      "the maximum is 950\n",
      "both are: 11 and 950\n"
     ]
    }
   ],
   "source": [
    "A = generateList(16, maxim = 1000)\n",
    "print (A)\n",
    "print (\"the minimum is {}\".format(minimum(A)))\n",
    "print (\"the maximum is {}\".format(maximun(A)))\n",
    "print (\"both are: {} and {}\".format(*both_max_min(A)))"
   ]
  },
  {
   "cell_type": "markdown",
   "metadata": {},
   "source": [
    "### k*th* minimum element"
   ]
  },
  {
   "cell_type": "code",
   "execution_count": 33,
   "metadata": {
    "collapsed": true
   },
   "outputs": [],
   "source": [
    "def partition(A,p,r):\n",
    "    \"\"\"\n",
    "    reorder the array so that all elements with values less than the pivot \n",
    "    come before the pivot, while all elements with values greater than \n",
    "    the pivot come after it (equal values can go either way); \n",
    "    function returns pivot index\n",
    "    \"\"\"\n",
    "    x = A[r]\n",
    "    i = p - 1\n",
    "    #all elements the fewer the last element \n",
    "    # we send to first positions of the list\n",
    "    for j in range(p,r):\n",
    "        if A[j] <= x:\n",
    "            i += 1\n",
    "            A[i], A[j] = A[j], A[i]\n",
    "    A[i+1], A[r] = A[r], A[i+1]\n",
    "    return i+1\n",
    "\n",
    "def rand_partition(A,p,r):\n",
    "    i = random.randint(p,r)\n",
    "    A[r], A[i] = A[i], A[r]\n",
    "    return partition(A,p,r)\n",
    "\n",
    "def randomized_select(A,p,r,i):\n",
    "    \"\"\"\n",
    "    returns the i_th smallest element of the array A\n",
    "    \"\"\" \n",
    "    if p == r:\n",
    "        #slice of the list consists of only 1 element\n",
    "        return A[p]\n",
    "    #split the A[p,r] by delimiter q such elements in A[p:q] less A[q]\n",
    "    #and A[q+1:r] is more or equal A[q]:\n",
    "    q = rand_partition(A,p,r) \n",
    "    #num of elements in the left list of A[p:q]:\n",
    "    k = q - p + 1  \n",
    "    if i == k:\n",
    "        #bingo!\n",
    "        return A[q]\n",
    "    elif i < k: \n",
    "        #the necessary element on the left side of partition\n",
    "        return randomized_select(A,p,q-1,i)\n",
    "    else:\n",
    "        #the necessary element on the right side of partition\n",
    "        return randomized_select(A,q+1,r,i-k)"
   ]
  },
  {
   "cell_type": "code",
   "execution_count": 34,
   "metadata": {},
   "outputs": [
    {
     "name": "stdout",
     "output_type": "stream",
     "text": [
      "404\n",
      "10 404\n"
     ]
    }
   ],
   "source": [
    "A = generateList(16, maxim = 1000)\n",
    "k = 10\n",
    "Kth_min = randomized_select(A, 0, len(A)-1, k)\n",
    "print (Kth_min)\n",
    "quicksort(A, 0, len(A)-1)\n",
    "print (k, A[k-1])"
   ]
  },
  {
   "cell_type": "markdown",
   "metadata": {
    "collapsed": true
   },
   "source": [
    "### Rod cutting problem"
   ]
  },
  {
   "cell_type": "markdown",
   "metadata": {},
   "source": [
    "Problem:\n",
    "\n",
    "Given a rod of length $n$ inches and a table of prices $p_{i}$ for $i$ = 1,2,...,n:"
   ]
  },
  {
   "cell_type": "code",
   "execution_count": 35,
   "metadata": {},
   "outputs": [
    {
     "data": {
      "image/png": "[encoded data removed]",
      "text/plain": [
       "<IPython.core.display.Image object>"
      ]
     },
     "execution_count": 35,
     "metadata": {},
     "output_type": "execute_result"
    }
   ],
   "source": [
    "Image(filename=\"pics/rod_cutting_problem_1.png\", width=None, height=None)"
   ]
  },
  {
   "cell_type": "markdown",
   "metadata": {},
   "source": [
    "determine the maximum revenue r n obtainable by cutting up the rod and selling the pieces. \n",
    "\n",
    "The 8 possible ways of cutting up a rod of length 4:"
   ]
  },
  {
   "cell_type": "code",
   "execution_count": 36,
   "metadata": {},
   "outputs": [
    {
     "data": {
      "image/png": "[encoded data removed]",
      "text/plain": [
       "<IPython.core.display.Image object>"
      ]
     },
     "execution_count": 36,
     "metadata": {},
     "output_type": "execute_result"
    }
   ],
   "source": [
    "Image(filename=\"pics/rod_cutting_problem_2.png\", width=None, height=None)"
   ]
  },
  {
   "cell_type": "markdown",
   "metadata": {},
   "source": [
    "#### a) divide and conquer method"
   ]
  },
  {
   "cell_type": "code",
   "execution_count": 37,
   "metadata": {
    "collapsed": true
   },
   "outputs": [],
   "source": [
    "def cutRod(prices, n):\n",
    "    if n==0:\n",
    "        return 0\n",
    "    q = prices[0]*n #price with split on all possible parts\n",
    "    for i in range(0, n):\n",
    "        q = max(q, prices[i]+cutRod(prices, n-i-1))\n",
    "    return q"
   ]
  },
  {
   "cell_type": "code",
   "execution_count": 38,
   "metadata": {},
   "outputs": [
    {
     "name": "stdout",
     "output_type": "stream",
     "text": [
      "[(1, 12), (2, -12)]\n",
      "24\n"
     ]
    }
   ],
   "source": [
    "num = 2\n",
    "lengths = range(1, num+1)\n",
    "prices = generateList(num, minim = -20, maxim = 20)\n",
    "print (zip_(lengths, prices))\n",
    "print (cutRod(prices, len(prices)))"
   ]
  },
  {
   "cell_type": "code",
   "execution_count": 39,
   "metadata": {},
   "outputs": [
    {
     "name": "stdout",
     "output_type": "stream",
     "text": [
      "10000 tests passed out of 10000 in 0.1472 seconds\n"
     ]
    }
   ],
   "source": [
    "TestCutRod(num_tests = 10000, func = cutRod).run()"
   ]
  },
  {
   "cell_type": "markdown",
   "metadata": {},
   "source": [
    "**running time analysis**"
   ]
  },
  {
   "cell_type": "markdown",
   "metadata": {},
   "source": [
    "Let $T(n)$ denote total number of calls to $cutRod$ function. The count includes the initial call at its root.Thus\n",
    "\n",
    "$$T(0)=1$$\n",
    "$$T(n) = 1 + \\sum_{j=0}^{n-1} T(j)$$\n",
    "\n",
    "Let's solve the recursion equation\n",
    "\n",
    "$T_n = T_{n-1}+T_{n-2}+...+T_{0}+1$\n",
    "\n",
    "$T_{n-1} = T_{n-2}+T_{n-3}+...+T_{0}+1$\n",
    "\n",
    "Therefore:\n",
    "\n",
    "$T_n = T_{n-1}+T_{n-1} = 2T_{n-1}$\n",
    "\n",
    "characteristic eqution:\n",
    "\n",
    "$P(x)=x^1-2x^0=0 => x = 2$\n",
    "\n",
    "General solution:\n",
    "$T_n = A2^n$\n",
    "\n",
    "Based on condition $T(0)=1$:\n",
    "\n",
    "$1=A2^0 => A=1$\n",
    "\n",
    "Therefore:\n",
    "$$T(n)=2^n$$"
   ]
  },
  {
   "cell_type": "markdown",
   "metadata": {},
   "source": [
    "let's check the results:"
   ]
  },
  {
   "cell_type": "code",
   "execution_count": 40,
   "metadata": {},
   "outputs": [
    {
     "data": {
      "application/vnd.jupyter.widget-view+json": {
       "model_id": "138398bd2d3d4862bf2e7c6dcc4834ec"
      }
     },
     "metadata": {},
     "output_type": "display_data"
    },
    {
     "name": "stdout",
     "output_type": "stream",
     "text": [
      "\n"
     ]
    },
    {
     "data": {
      "image/png": "[encoded data removed]",
      "text/plain": [
       "<matplotlib.figure.Figure at 0x7f631fd12b38>"
      ]
     },
     "metadata": {},
     "output_type": "display_data"
    }
   ],
   "source": [
    "stats = []\n",
    "for num in tqdm_notebook(range(0,25,1)):\n",
    "    prices = generateList(num, minim = -2000, maxim = 2000)\n",
    "    start_time = time.time()\n",
    "    _ = cutRod(prices, len(prices))\n",
    "    t = time.time() - start_time\n",
    "    stats.append((num, t))       \n",
    "stats = np.array(stats)\n",
    "\n",
    "check_func = lambda x: 2**x\n",
    "corrector = np.mean(check_func(stats[-3:,0])/stats[-3:,1])\n",
    "\n",
    "plt.plot(stats[:,0],stats[:,1], 'g.', label = 'cutRod')\n",
    "plt.plot(stats[:,0],check_func(stats[:,0])/corrector, 'r.', label = 'check function')\n",
    "plt.grid(True)\n",
    "plt.ylabel('time (sec)')\n",
    "plt.xlabel('number of elements')\n",
    "plt.legend()\n",
    "plt.show()"
   ]
  },
  {
   "cell_type": "markdown",
   "metadata": {},
   "source": [
    "#### b) dimanic programming method\n",
    "\n",
    "* **top-down with memoization**"
   ]
  },
  {
   "cell_type": "code",
   "execution_count": 41,
   "metadata": {
    "scrolled": false
   },
   "outputs": [
    {
     "name": "stdout",
     "output_type": "stream",
     "text": [
      "[-149, -183]\n",
      "-183\n",
      "10000 tests passed out of 10000 in 0.2382 seconds\n",
      "-183\n"
     ]
    }
   ],
   "source": [
    "def memoizedCutRodAux(p, n, r):\n",
    "    #check, whether the desired value is already known\n",
    "    if r[n] != None:\n",
    "        return r[n]\n",
    "    elif n == 0:\n",
    "        q = 0\n",
    "    else:\n",
    "        q = None\n",
    "        for i in range(n):\n",
    "            q = max_(q, p[i] + memoizedCutRodAux(p, n-i-1, r))\n",
    "    r[n] = q\n",
    "    return q\n",
    "\n",
    "#wrapper\n",
    "def memoizedCutRod(p, n):\n",
    "    r = [None]*(n + 1)\n",
    "    return memoizedCutRodAux(p, n, r)\n",
    "\n",
    "num = 2\n",
    "prices = generateList(num, minim=-200, maxim=200)\n",
    "print (prices)\n",
    "print (memoizedCutRod(prices, num))\n",
    "TestCutRod(num_tests=10000, func=memoizedCutRod).run()\n",
    "print(memoizedCutRodAux(prices, num, [None]*(num+1))) #call without wrapper"
   ]
  },
  {
   "cell_type": "markdown",
   "metadata": {
    "collapsed": true
   },
   "source": [
    "* **bottom-up method**"
   ]
  },
  {
   "cell_type": "code",
   "execution_count": 42,
   "metadata": {},
   "outputs": [
    {
     "name": "stdout",
     "output_type": "stream",
     "text": [
      "13680\n",
      "10000 tests passed out of 10000 in 0.2214 seconds\n"
     ]
    }
   ],
   "source": [
    "def bottomUpCutRod(p, n):\n",
    "    #create r in which we will save the results of the small subproblems\n",
    "    #declarer[0] = 0 is case length of rod equals zero\n",
    "    r = [0]\n",
    "    for j in range(1, n+1):\n",
    "        q = None\n",
    "        for i in range(0, j):\n",
    "            q = max_(q, p[i] + r[j-i-1])\n",
    "        #save the solution of j size subproblem \n",
    "        r.append(q)\n",
    "    return r[n]\n",
    "\n",
    "num = 450\n",
    "prices = generateList(num, minim=-200, maxim=200)\n",
    "print(bottomUpCutRod(prices,num))\n",
    "TestCutRod(num_tests=10000, func=bottomUpCutRod).run()"
   ]
  },
  {
   "cell_type": "markdown",
   "metadata": {
    "collapsed": true
   },
   "source": [
    "**running time analysis of top-down with memoization and bottom-up methods**"
   ]
  },
  {
   "cell_type": "markdown",
   "metadata": {},
   "source": [
    "$running\\ time\\ is\\ \\Theta(n^2)$ due to doubly-nested loop structures of both methods"
   ]
  },
  {
   "cell_type": "code",
   "execution_count": 43,
   "metadata": {},
   "outputs": [
    {
     "data": {
      "application/vnd.jupyter.widget-view+json": {
       "model_id": "c643909143e54414bd1576480995987b"
      }
     },
     "metadata": {},
     "output_type": "display_data"
    },
    {
     "name": "stdout",
     "output_type": "stream",
     "text": [
      "\n"
     ]
    },
    {
     "data": {
      "image/png": "[encoded data removed]",
      "text/plain": [
       "<matplotlib.figure.Figure at 0x7f631f59a4e0>"
      ]
     },
     "metadata": {},
     "output_type": "display_data"
    }
   ],
   "source": [
    "stats = []\n",
    "for num in tqdm_notebook(range(0,500,1)):\n",
    "    prices = generateList(num, minim = -2000, maxim = 2000)\n",
    "    start_time = time.time()\n",
    "    _ = memoizedCutRod(prices, len(prices))\n",
    "    t1 = time.time() - start_time\n",
    "    start_time = time.time()\n",
    "    _ = bottomUpCutRod(prices, len(prices))\n",
    "    t2 = time.time() - start_time\n",
    "    stats.append((num, t1, t2))       \n",
    "stats = np.array(stats)\n",
    "\n",
    "check_func = lambda x: x**2\n",
    "corrector = 0.5*np.mean(check_func(stats[-20:,0])/stats[-20:,1]) + \\\n",
    "            0.5*np.mean(check_func(stats[-20:,0])/stats[-20:,2])\n",
    "\n",
    "plt.plot(stats[:,0],stats[:,1], 'g.', label='memoizedCutRod')\n",
    "plt.plot(stats[:,0],stats[:,2], 'b.', label='bottomUpCutRod')\n",
    "plt.plot(stats[:,0],check_func(stats[:,0])/corrector, 'r.', label = 'check function')\n",
    "plt.grid(True)\n",
    "plt.ylabel('time (sec)')\n",
    "plt.xlabel('number of elements')\n",
    "plt.legend()\n",
    "plt.show()"
   ]
  },
  {
   "cell_type": "markdown",
   "metadata": {
    "collapsed": true
   },
   "source": [
    "### Matrix chain multiplication \n",
    "#### (application of dinamic programming example)\n",
    "\n",
    "how to select order of matrixes multiplication that minimizes the number of scalar multiplications\n",
    "\n",
    "$A_1 \\cdot A_2 \\cdot A_3 \\cdot A_4$\n",
    "\n",
    "examples of possible decisions:\n",
    "\n",
    "- $(A_1 \\cdot (A_2 \\cdot (A_3 \\cdot A_4)))$ \n",
    "\n",
    "- $((A_1 \\cdot A_2) \\cdot (A_3 \\cdot A_4))$\n"
   ]
  },
  {
   "cell_type": "code",
   "execution_count": 207,
   "metadata": {
    "collapsed": true
   },
   "outputs": [],
   "source": [
    "class Matrix(object):\n",
    "    def check_matrix(self):\n",
    "        prev_len = len(self.list[0])\n",
    "        for item in self.list:\n",
    "            if len(item) != prev_len:\n",
    "                return False\n",
    "            prev_len = len(item)       \n",
    "        return True\n",
    "    \n",
    "    def __init__(self,l):\n",
    "        self.list = l\n",
    "        self.rows = len(l)\n",
    "        self.columns = len(l[0])\n",
    "        assert self.check_matrix()==True, \"the matrix is wrong\"\n",
    "\n",
    "        \n",
    "def generate_matrix(num_rows, num_columns, minim=0, maxim=10):\n",
    "    matrix = []\n",
    "    for _ in range(num_rows):\n",
    "        matrix.append(generateList(num_columns, minim=minim, maxim=maxim))\n",
    "    return matrix  \n",
    "    \n",
    "        \n",
    "def generate_seq(*args):\n",
    "    seq = []\n",
    "    for el in args:\n",
    "        rows = len(el)\n",
    "        columns = len(el[0])\n",
    "        seq.append([rows,columns])\n",
    "    return seq\n",
    "\n",
    "\n",
    "def generate_short_seq(*args):\n",
    "    seq = generate_seq(*args)\n",
    "    \n",
    "    short_seq = []\n",
    "    short_seq.append(seq[0][0])\n",
    "    for el in seq:\n",
    "        short_seq.append(el[1])\n",
    "    return short_seq\n",
    "\n",
    "\n",
    "def dot_product(A,B):\n",
    "    A_columns = len(A[0])\n",
    "    A_rows = len(A)\n",
    "    B_columns = len(B[0])\n",
    "    B_rows = len(B)\n",
    "    \n",
    "    assert A_columns == B_rows, \"incompatible dimensions\"\n",
    "    \n",
    "    #create empty list\n",
    "    C = [[None]*B_columns for _ in range(A_rows)]\n",
    "    #every line of A multiply on every column of B\n",
    "    for i in range(A_rows):\n",
    "        for j in range(B_columns):\n",
    "            C[i][j] = 0\n",
    "            for k in range(A_columns):\n",
    "                C[i][j] += A[i][k]*B[k][j]    \n",
    "    return C"
   ]
  },
  {
   "cell_type": "code",
   "execution_count": 208,
   "metadata": {},
   "outputs": [
    {
     "name": "stdout",
     "output_type": "stream",
     "text": [
      "293   50  172\n",
      "201   91  195\n",
      "200  106  179\n",
      "327   79  203\n",
      "230   94  204\n",
      "203  102  166\n"
     ]
    }
   ],
   "source": [
    "A = generate_matrix(6,7, minim=0, maxim=10)\n",
    "B = generate_matrix(7,3, minim=0, maxim=10)\n",
    "print_(dot_product(A,B))"
   ]
  },
  {
   "cell_type": "markdown",
   "metadata": {},
   "source": [
    "complexity of **dot_product** is $A_{columns} \\cdot B_{columns} \\cdot A_{rows}$ ~ $n^3$"
   ]
  },
  {
   "cell_type": "markdown",
   "metadata": {},
   "source": [
    "Applying dynamic programming\n",
    "We shall use the dynamic-programming method to determine how to optimally\n",
    "parenthesize a matrix chain. In so doing, we shall follow the four-step sequence\n",
    "that we stated at the beginning of this chapter:\n",
    "1. Characterize the structure of an optimal solution.\n",
    "2. Recursively define the value of an optimal solution.\n",
    "3. Compute the value of an optimal solution.15.2 Matrix-chain multiplication\n",
    "4. Construct an optimal solution from computed information.\n",
    "\n",
    "$m[i,j]$ is cost of calculation of matrixes $A_i \\cdot A_{i+1} \\cdot \\cdot \\cdot A_j$\n",
    "\n",
    "size of $A_j$ is $p_{i-1} \\times p_i$\n",
    "\n",
    "$m[i,j] = m[i,k] + m[k+1,j] + p_{i-1} p_k p_j$\n",
    "\n",
    "Thus, our recursive defenition for the minimum cost of paranthesizing the product $A_i \\cdot A_{i+1} \\cdot \\cdot \\cdot A_j$ becomes:\n",
    "\n",
    "\n",
    "$m[i,j] = 0,\\ if\\ i=j,\\ or$\n",
    "\n",
    "$m[i,j] = \\min_{i \\leq k<j}\\{m[i,k] + m[k+1,j] + p_{i-1} p_k p_j\\}\\ if\\ i<j$"
   ]
  },
  {
   "cell_type": "markdown",
   "metadata": {
    "collapsed": true
   },
   "source": [
    "**bottom-up approach implementation**\n",
    "\n",
    "sequence $p = p_0, p_1, p_2, \\dots p_n$ contains all necessery information about matrixes\n",
    "\n",
    "let *m* is auxiliary matrix $n \\times n$ for storing the $m[i,j]$ costs and\n",
    "matrix $s[1 \\dots n-1, 2 \\dots n]$ that records witch index of *k* achived optimal solution in computing $m[i,j]$"
   ]
  },
  {
   "cell_type": "code",
   "execution_count": 209,
   "metadata": {},
   "outputs": [
    {
     "name": "stdout",
     "output_type": "stream",
     "text": [
      "[[8, 5], [5, 10], [10, 7], [7, 3], [3, 3], [3, 5]]\n",
      "[8, 5, 10, 7, 3, 3, 5]\n"
     ]
    }
   ],
   "source": [
    "#generate matrixes pool\n",
    "matrix_pool = []\n",
    "num_rows = random.randint(3,10)\n",
    "for _ in range(6):\n",
    "    num_columns = random.randint(3,10)\n",
    "    matrix = generate_matrix(num_rows, num_columns, minim=0, maxim=10)\n",
    "    matrix_pool.append(matrix)\n",
    "    num_rows = num_columns\n",
    "\n",
    "seq = generate_seq(*matrix_pool)\n",
    "p = generate_short_seq(*matrix_pool)\n",
    "print(seq)\n",
    "print(p)"
   ]
  },
  {
   "cell_type": "code",
   "execution_count": 9,
   "metadata": {
    "collapsed": true
   },
   "outputs": [],
   "source": [
    "p = list(map(int, \"30 35 15 5 10 20 25\".split(' ')))\n",
    "\n",
    "def matrix_chain_order(p):\n",
    "    # number of matrixes:\n",
    "    n = len(p) - 1\n",
    "    m = [[0]*n for _ in range(n)]\n",
    "    s = [[0]*n for _ in range(n)]\n",
    "    \n",
    "    for l in range(2, len(p)): #l is the chain length\n",
    "        for i in range(n-l+1):\n",
    "            j = i + l - 1\n",
    "            m[i][j] = math.inf\n",
    "            for k in range(i, j):\n",
    "                q = m[i][k] + m[k+1][j] + p[i-1]*p[k]*p[j]\n",
    "                # debug:\n",
    "                #print(\"l={}; i={}; j={}; k={}; q={}; \".format(l,i,j,k,q))\n",
    "                if q < m[i][j]:\n",
    "                    m[i][j] = q\n",
    "                    s[i][j] = k  #the best split between i and j\n",
    "    return m, s\n",
    "\n",
    "m,s = matrix_chain_order(p)"
   ]
  },
  {
   "cell_type": "code",
   "execution_count": 10,
   "metadata": {
    "collapsed": true
   },
   "outputs": [],
   "source": [
    "def print_optimal_parents(s,i,j):\n",
    "    if i == j:\n",
    "        print(\"A{}\".format(i+1), end = \"\")\n",
    "    else:\n",
    "        print(\"(\", end = \"\")\n",
    "        print_optimal_parents(s,i,s[i][j])\n",
    "        print_optimal_parents(s,s[i][j]+1,j)\n",
    "        print(\")\", end = \"\")"
   ]
  },
  {
   "cell_type": "code",
   "execution_count": 13,
   "metadata": {},
   "outputs": [
    {
     "name": "stdout",
     "output_type": "stream",
     "text": [
      "((A1(A2(A3A4)))(A5A6))"
     ]
    }
   ],
   "source": [
    "print_optimal_parents(s,0,len(s[0])-1)"
   ]
  },
  {
   "cell_type": "markdown",
   "metadata": {
    "collapsed": true
   },
   "source": [
    "### Longest common subsequence\n",
    "\n",
    "The problem is to determine how \"similar\" the two sequences"
   ]
  },
  {
   "cell_type": "markdown",
   "metadata": {},
   "source": [
    "#### brute-force approach (for testing)\n",
    "enumerate all subsequences of $S_1$ and check each subsequence to see whether it is also a subsequence of $S_2$"
   ]
  },
  {
   "cell_type": "code",
   "execution_count": 11,
   "metadata": {
    "collapsed": true
   },
   "outputs": [],
   "source": [
    "def random_string(N, elements = None):\n",
    "    if elements == None:\n",
    "        elements = string.ascii_uppercase\n",
    "    return ''.join(random.choice(elements) for _ in range(N))\n",
    "\n",
    "def subseq_in_S2(subseq, S2):\n",
    "    S2 = list(S2)\n",
    "    j = 0\n",
    "    max_j = len(S2) - 1\n",
    "    for element in subseq:\n",
    "        if j > max_j:\n",
    "            return False\n",
    "        while element != S2[j]:\n",
    "            j += 1\n",
    "            if j > max_j:\n",
    "                return False\n",
    "        j += 1\n",
    "    return True\n",
    "\n",
    "def brute_force_algo(S1,S2):\n",
    "    longest_len = 0\n",
    "    longest_subs = \"\"\n",
    "    for i, _ in enumerate(S1):\n",
    "        i += 1\n",
    "        for subseq in itertools.combinations(S1, i):\n",
    "            subseq = \"\".join(subseq)\n",
    "            if subseq_in_S2(subseq, S2):\n",
    "                longest_len = i\n",
    "                longest_subs = subseq\n",
    "    return longest_len, longest_subs"
   ]
  },
  {
   "cell_type": "code",
   "execution_count": 12,
   "metadata": {},
   "outputs": [
    {
     "name": "stdout",
     "output_type": "stream",
     "text": [
      "S1 = CEFEFBABFA; S2 = FFCBFCDBEB\n"
     ]
    },
    {
     "data": {
      "text/plain": [
       "(4, 'FFBF')"
      ]
     },
     "execution_count": 12,
     "metadata": {},
     "output_type": "execute_result"
    }
   ],
   "source": [
    "S1 = random_string(10, elements=['A','B','C','D','E','F'])\n",
    "S2 = random_string(10, elements=['A','B','C','D','E','F'])\n",
    "print(\"S1 = {}; S2 = {}\".format(S1,S2))\n",
    "brute_force_algo(S1, S2)"
   ]
  },
  {
   "cell_type": "markdown",
   "metadata": {
    "collapsed": true
   },
   "source": [
    "#### dinamic programming method"
   ]
  },
  {
   "cell_type": "code",
   "execution_count": 13,
   "metadata": {},
   "outputs": [
    {
     "data": {
      "image/png": "[encoded data removed]",
      "text/plain": [
       "<IPython.core.display.Image object>"
      ]
     },
     "execution_count": 13,
     "metadata": {},
     "output_type": "execute_result"
    }
   ],
   "source": [
    "Image(filename=\"pics/longest_common_sequence.png\", width=None, height=None)"
   ]
  },
  {
   "cell_type": "code",
   "execution_count": 14,
   "metadata": {
    "collapsed": true
   },
   "outputs": [],
   "source": [
    "def LCS_length(X, Y):\n",
    "    lenX = len(X)\n",
    "    lenY = len(Y)\n",
    "    \n",
    "    #axylary matrixes:\n",
    "    b = [[0]*(lenY) for _ in range(lenX)]\n",
    "    c = [[0]*(lenY+1) for _ in range(lenX+1)] \n",
    "    \n",
    "    for i in range(1,lenX+1):\n",
    "        for j in range(1,lenY+1):\n",
    "            if X[i-1]==Y[j-1]:\n",
    "                c[i][j] = c[i-1][j-1] + 1\n",
    "                b[i-1][j-1] = u'\\u21F1' #'diag'\n",
    "            elif c[i-1][j] >= c[i][j-1]:\n",
    "                c[i][j] = c[i-1][j]\n",
    "                b[i-1][j-1] = u'\\u2191' #'up'\n",
    "            else:\n",
    "                c[i][j] = c[i][j-1]\n",
    "                b[i-1][j-1] = u'\\u27F5' #'left'\n",
    "    return c, b"
   ]
  },
  {
   "cell_type": "code",
   "execution_count": 15,
   "metadata": {},
   "outputs": [
    {
     "name": "stdout",
     "output_type": "stream",
     "text": [
      "S1 = DBCCDDBDCDBCBBD; S2 = CCADDDCADBBCBBC\n"
     ]
    },
    {
     "data": {
      "text/plain": [
       "(11, 'CCDDDCDBCBB')"
      ]
     },
     "execution_count": 15,
     "metadata": {},
     "output_type": "execute_result"
    }
   ],
   "source": [
    "S1 = random_string(15, elements=['A','B','C','D','E'])\n",
    "S2 = random_string(15, elements=['A','B','C','D','E'])\n",
    "print(\"S1 = {}; S2 = {}\".format(S1,S2))\n",
    "brute_force_algo(S1, S2)"
   ]
  },
  {
   "cell_type": "code",
   "execution_count": 16,
   "metadata": {
    "collapsed": true
   },
   "outputs": [],
   "source": [
    "c, b = LCS_length(S1,S2)"
   ]
  },
  {
   "cell_type": "code",
   "execution_count": 17,
   "metadata": {},
   "outputs": [
    {
     "name": "stdout",
     "output_type": "stream",
     "text": [
      "↑  ↑  ↑  ⇱  ⇱  ⇱  ⟵  ⟵  ⇱  ⟵  ⟵  ⟵  ⟵  ⟵  ⟵\n",
      "↑  ↑  ↑  ↑  ↑  ↑  ↑  ↑  ↑  ⇱  ⇱  ⟵  ⇱  ⇱  ⟵\n",
      "⇱  ⇱  ⟵  ↑  ↑  ↑  ⇱  ⟵  ⟵  ↑  ↑  ⇱  ⟵  ⟵  ⇱\n",
      "⇱  ⇱  ⟵  ⟵  ⟵  ⟵  ⇱  ↑  ↑  ↑  ↑  ⇱  ↑  ↑  ⇱\n",
      "↑  ↑  ↑  ⇱  ⇱  ⇱  ⟵  ⟵  ⇱  ⟵  ⟵  ↑  ↑  ↑  ↑\n",
      "↑  ↑  ↑  ⇱  ⇱  ⇱  ⟵  ⟵  ⇱  ⟵  ⟵  ⟵  ⟵  ⟵  ↑\n",
      "↑  ↑  ↑  ↑  ↑  ↑  ↑  ↑  ↑  ⇱  ⇱  ⟵  ⇱  ⇱  ⟵\n",
      "↑  ↑  ↑  ⇱  ⇱  ⇱  ⟵  ⟵  ⇱  ↑  ↑  ↑  ↑  ↑  ↑\n",
      "⇱  ⇱  ↑  ↑  ↑  ↑  ⇱  ⟵  ⟵  ⟵  ⟵  ⇱  ⟵  ⟵  ⇱\n",
      "↑  ↑  ↑  ⇱  ⇱  ⇱  ↑  ↑  ⇱  ⟵  ⟵  ⟵  ⟵  ⟵  ⟵\n",
      "↑  ↑  ↑  ↑  ↑  ↑  ↑  ↑  ↑  ⇱  ⇱  ⟵  ⇱  ⇱  ⟵\n",
      "⇱  ⇱  ↑  ↑  ↑  ↑  ⇱  ↑  ↑  ↑  ↑  ⇱  ⟵  ⟵  ⇱\n",
      "↑  ↑  ↑  ↑  ↑  ↑  ↑  ↑  ↑  ⇱  ⇱  ↑  ⇱  ⇱  ⟵\n",
      "↑  ↑  ↑  ↑  ↑  ↑  ↑  ↑  ↑  ⇱  ⇱  ↑  ⇱  ⇱  ⟵\n",
      "↑  ↑  ↑  ⇱  ⇱  ⇱  ↑  ↑  ⇱  ↑  ↑  ↑  ↑  ↑  ↑\n"
     ]
    }
   ],
   "source": [
    "print_(b)"
   ]
  },
  {
   "cell_type": "code",
   "execution_count": 18,
   "metadata": {},
   "outputs": [
    {
     "name": "stdout",
     "output_type": "stream",
     "text": [
      "0  0  0  0  0  0  0  0  0  0  0  0  0   0   0   0\n",
      "0  0  0  0  1  1  1  1  1  1  1  1  1   1   1   1\n",
      "0  0  0  0  1  1  1  1  1  1  2  2  2   2   2   2\n",
      "0  1  1  1  1  1  1  2  2  2  2  2  3   3   3   3\n",
      "0  1  2  2  2  2  2  2  2  2  2  2  3   3   3   4\n",
      "0  1  2  2  3  3  3  3  3  3  3  3  3   3   3   4\n",
      "0  1  2  2  3  4  4  4  4  4  4  4  4   4   4   4\n",
      "0  1  2  2  3  4  4  4  4  4  5  5  5   5   5   5\n",
      "0  1  2  2  3  4  5  5  5  5  5  5  5   5   5   5\n",
      "0  1  2  2  3  4  5  6  6  6  6  6  6   6   6   6\n",
      "0  1  2  2  3  4  5  6  6  7  7  7  7   7   7   7\n",
      "0  1  2  2  3  4  5  6  6  7  8  8  8   8   8   8\n",
      "0  1  2  2  3  4  5  6  6  7  8  8  9   9   9   9\n",
      "0  1  2  2  3  4  5  6  6  7  8  9  9  10  10  10\n",
      "0  1  2  2  3  4  5  6  6  7  8  9  9  10  11  11\n",
      "0  1  2  2  3  4  5  6  6  7  8  9  9  10  11  11\n"
     ]
    }
   ],
   "source": [
    "print_(c)"
   ]
  },
  {
   "cell_type": "code",
   "execution_count": 55,
   "metadata": {},
   "outputs": [
    {
     "name": "stdout",
     "output_type": "stream",
     "text": [
      "lenght od LCS = 11\n",
      "LCS: CCDDDCDBCBB\n"
     ]
    }
   ],
   "source": [
    "def print_LCS(b, X, i, j, A):\n",
    "    if i==-1 or j==-1:\n",
    "        return None\n",
    "    if b[i][j] == u'\\u21F1': #diag\n",
    "        print_LCS(b, X, i-1, j-1, A)\n",
    "        A.append(X[i])\n",
    "    elif b[i][j] == u'\\u2191': #up\n",
    "        print_LCS(b, X, i-1, j, A)\n",
    "    else:\n",
    "        print_LCS(b, X, i, j-1, A)\n",
    "\n",
    "def get_result(b, S1):\n",
    "    A = []\n",
    "    print_LCS(b, S1, len(S1)-1, len(S2)-1, A)\n",
    "    return \"\".join(A)\n",
    "        \n",
    "LCS = get_result(b, S1)\n",
    "print(f\"lenght od LCS = {len(LCS)}\")\n",
    "print(f\"LCS: {LCS}\")"
   ]
  },
  {
   "cell_type": "markdown",
   "metadata": {},
   "source": [
    "### Optimal binary search trees"
   ]
  },
  {
   "cell_type": "markdown",
   "metadata": {},
   "source": [
    "What we need to know as an **optimal binary search tree**. Formally, we are given a sequence $K = \\langle k_1,k_2,...,k_n \\rangle$ of $n$ distinct keys in sorted order (so that $k_1 < k_2 <...<k_n$), and we wish to build a binary search tree from these keys. For each key $k_i$, we have a probability $p_i$ that a search will be for $k_i$. Some searches may be for values not in $K$, and so we also have $n+1$ 'dummy keys'"
   ]
  },
  {
   "cell_type": "code",
   "execution_count": 58,
   "metadata": {},
   "outputs": [
    {
     "data": {
      "image/png": "[encoded data removed]",
      "text/plain": [
       "<IPython.core.display.Image object>"
      ]
     },
     "execution_count": 58,
     "metadata": {},
     "output_type": "execute_result"
    }
   ],
   "source": [
    "Image(filename=\"pics/optimal_binary_search_tree.png\", width=None, height=None)"
   ]
  },
  {
   "cell_type": "code",
   "execution_count": 59,
   "metadata": {},
   "outputs": [
    {
     "data": {
      "image/png": "[encoded data removed]",
      "text/plain": [
       "<IPython.core.display.Image object>"
      ]
     },
     "execution_count": 59,
     "metadata": {},
     "output_type": "execute_result"
    }
   ],
   "source": [
    "Image(filename=\"pics/optimal_binary_search_tree_2.png\", width=None, height=None)"
   ]
  },
  {
   "cell_type": "code",
   "execution_count": 75,
   "metadata": {
    "collapsed": true
   },
   "outputs": [],
   "source": [
    "def optimal_BST(p, q, n):\n",
    "    e = [[0]*(n+1) for _ in range(n+1)]\n",
    "    w = [[0]*(n+1) for _ in range(n+1)]\n",
    "    root = [[0]*n for _ in range(n)]\n",
    "    \n",
    "    for i in range(n+1):\n",
    "        e[i][i] = q[i]\n",
    "        w[i][i] = q[i]\n",
    "    for l in range(1,n+1):\n",
    "        for i in range(1,n-l+1+1):\n",
    "            j = i+l-1\n",
    "            e[i-1][j] = 999999999999999999999\n",
    "            w[i-1][j] = w[i-1][j-1] + p[j-1] + q[j]\n",
    "            for r in range(i,j+1):\n",
    "                t = e[i-1][r-1] + e[r+1-1][j] + w[i-1][j]\n",
    "                if t < e[i-1][j]:\n",
    "                    e[i-1][j] = t\n",
    "                    root[i-1][j-1] = r\n",
    "    return e, root"
   ]
  },
  {
   "cell_type": "code",
   "execution_count": 76,
   "metadata": {
    "collapsed": true
   },
   "outputs": [],
   "source": [
    "p = [0.15, 0.10, 0.05, 0.1, 0.2]\n",
    "q = [0.05, 0.1, 0.05, 0.05, 0.05, 0.10]\n",
    "e, root = optimal_BST(p,q,len(p))"
   ]
  },
  {
   "cell_type": "code",
   "execution_count": 194,
   "metadata": {},
   "outputs": [
    {
     "name": "stdout",
     "output_type": "stream",
     "text": [
      "0.05  0.45  0.90  1.25  1.75  2.75\n",
      "   0  0.10  0.40  0.70  1.20  2.00\n",
      "   0     0  0.05  0.25  0.60  1.30\n",
      "   0     0     0  0.05  0.30  0.90\n",
      "   0     0     0     0  0.05  0.50\n",
      "   0     0     0     0     0  0.10\n"
     ]
    }
   ],
   "source": [
    "print_(e, num_digits_after_dot=2)"
   ]
  },
  {
   "cell_type": "code",
   "execution_count": 195,
   "metadata": {},
   "outputs": [
    {
     "name": "stdout",
     "output_type": "stream",
     "text": [
      "1  1  2  2  2\n",
      "0  2  2  2  4\n",
      "0  0  3  4  5\n",
      "0  0  0  4  5\n",
      "0  0  0  0  5\n"
     ]
    }
   ],
   "source": [
    "print_(root)"
   ]
  },
  {
   "cell_type": "code",
   "execution_count": 318,
   "metadata": {
    "collapsed": true
   },
   "outputs": [],
   "source": [
    "def print_optimal_BST(root, start, end, parent = None, side = None):\n",
    "    r = root[start][end]\n",
    "    r_ind = r - 1\n",
    "    \n",
    "    if parent is None:\n",
    "        print (\"k_{} is the root\".format(r))\n",
    "    else:\n",
    "        print (\"k_{} is the {} child of k_{}\".format(r, side, parent))\n",
    "           \n",
    "    if start == r_ind:\n",
    "        print (\"d_{} is the left child of k_{}\".format(r-1, r-0))\n",
    "    else:\n",
    "        print_optimal_BST(root, start, r_ind-1, parent = r, side = \"left\")\n",
    "        \n",
    "    if end == r_ind:\n",
    "        print (\"d_{} is the right child of k_{}\".format(r, r))\n",
    "    else:\n",
    "        print_optimal_BST(root, r_ind+1, end, parent = r, side = \"right\")"
   ]
  },
  {
   "cell_type": "code",
   "execution_count": 319,
   "metadata": {
    "scrolled": false
   },
   "outputs": [
    {
     "name": "stdout",
     "output_type": "stream",
     "text": [
      "k_2 is the root\n",
      "k_1 is the left child of k_2\n",
      "d_0 is the left child of k_1\n",
      "d_1 is the right child of k_1\n",
      "k_5 is the right child of k_2\n",
      "k_4 is the left child of k_5\n",
      "k_3 is the left child of k_4\n",
      "d_2 is the left child of k_3\n",
      "d_3 is the right child of k_3\n",
      "d_4 is the right child of k_4\n",
      "d_5 is the right child of k_5\n"
     ]
    }
   ],
   "source": [
    "find_root_and_childs(root, 0, len(root)-1)"
   ]
  },
  {
   "cell_type": "markdown",
   "metadata": {},
   "source": [
    "## Greedy Algorithms"
   ]
  },
  {
   "cell_type": "markdown",
   "metadata": {},
   "source": [
    "### Activity selection problem\n",
    "\n",
    "The problem of scheduling several competing activities that require exlusive use of a common resources with a goal of selecting a maximum-size set of mutually campatible activities."
   ]
  },
  {
   "cell_type": "code",
   "execution_count": 9,
   "metadata": {},
   "outputs": [
    {
     "name": "stdout",
     "output_type": "stream",
     "text": [
      " 2   5\n",
      " 6   7\n",
      " 1   9\n",
      " 3  10\n",
      " 6  13\n",
      " 7  14\n",
      " 3  16\n",
      " 1  17\n",
      " 0  20\n",
      "19  20\n"
     ]
    }
   ],
   "source": [
    "# generate processes\n",
    "# the first number is start time of a process, the second one is finish time\n",
    "num_processes = 10\n",
    "s = generateList(num_processes, minim=0, maxim=23)\n",
    "f = generateList(num_processes, minim=0, maxim=23)\n",
    "pairs = [(a,b) if a < b else (b,a) for a,b in zip(s,f)]\n",
    "pairs = [(a,a+1) if a==b else (a,b) for (a,b) in pairs]\n",
    "pairs.sort(key = lambda x: (x[1],x[0]))\n",
    "print_(pairs)"
   ]
  },
  {
   "cell_type": "markdown",
   "metadata": {},
   "source": [
    "#### brute-force approach (for testing)"
   ]
  },
  {
   "cell_type": "code",
   "execution_count": 10,
   "metadata": {},
   "outputs": [
    {
     "data": {
      "text/plain": [
       "(4, ((2, 5), (6, 7), (7, 14), (19, 20)))"
      ]
     },
     "execution_count": 10,
     "metadata": {},
     "output_type": "execute_result"
    }
   ],
   "source": [
    "def analyse_seq(seq):\n",
    "    for a,b in zip(seq[:-1], seq[1:]):\n",
    "        if a[1] > b[0]:\n",
    "            return 0\n",
    "    return len(seq)\n",
    "\n",
    "def brute_forse_method(pairs):\n",
    "    \"\"\"\n",
    "    iterate through all possible combinations\n",
    "    return\n",
    "     - max number of activities\n",
    "     - one possible subsequence\n",
    "    \"\"\"\n",
    "    if not pairs:\n",
    "        return 0, ()\n",
    "    result, best_seq = 1, pairs[0]\n",
    "    for seq_length in range(2,len(pairs)+1):\n",
    "        for comb in itertools.combinations(pairs, seq_length):\n",
    "            num_activities = analyse_seq(comb)\n",
    "            if num_activities > result:\n",
    "                best_seq = comb\n",
    "                result = num_activities\n",
    "    return result, best_seq\n",
    "\n",
    "brute_forse_method(pairs)"
   ]
  },
  {
   "cell_type": "markdown",
   "metadata": {},
   "source": [
    "**dynamic approach**"
   ]
  },
  {
   "cell_type": "markdown",
   "metadata": {},
   "source": [
    "Let us denote by $S_{ij}$ the set of activities that start after activity $a_i$ finishes and that finish before activity $a_j$ starts.\n",
    "And let $c[i,j]$ is size of the optimal solution of the set $S_{ij}$, then:\n",
    "\n",
    "\\begin{equation}\n",
    "  c[i,j] =\n",
    "  \\begin{cases}\n",
    "    0, & \\text{if}\\ S_{ij}=\\emptyset \\\\\n",
    "    max\\{c[i,k] + c[k,j] + 1\\},\\ i<k<j, & \\text{if}\\ S_{ij}\\neq\\emptyset\n",
    "  \\end{cases}\n",
    "\\end{equation}"
   ]
  },
  {
   "cell_type": "code",
   "execution_count": 11,
   "metadata": {},
   "outputs": [
    {
     "name": "stdout",
     "output_type": "stream",
     "text": [
      "False\n",
      "True\n"
     ]
    }
   ],
   "source": [
    "def is_empty_set(pairs):\n",
    "    start = pairs[0]\n",
    "    end = pairs[-1]\n",
    "    for pair in pairs[1:-1]:\n",
    "        if pair[0] >= start[1] and pair[1] <= end[0]:\n",
    "            return False\n",
    "    return True\n",
    "\n",
    "print(is_empty_set([(1,2),(4,7),(8,10)]))\n",
    "print(is_empty_set([(1,4),(2,7),(8,10)]))"
   ]
  },
  {
   "cell_type": "code",
   "execution_count": 12,
   "metadata": {
    "scrolled": true
   },
   "outputs": [],
   "source": [
    "def dinamic_method (pairs):\n",
    "    \n",
    "    #add minimum and maximum\n",
    "    low_bound = min(a for a,b in pairs)\n",
    "    high_bound = max(b for a,b in pairs)\n",
    "    \n",
    "    pairs = [(low_bound-20,low_bound-10)] + pairs + \\\n",
    "            [(high_bound+10,high_bound+20)]\n",
    "    #print (pairs)\n",
    "    \n",
    "    n = len(pairs)\n",
    "    c = [[\"NA\"]*(n) for _ in range(n+1)]\n",
    "    for i in range(n+1):\n",
    "        for j in range(n):\n",
    "            if i >= j:\n",
    "                c[i][j] = 0  \n",
    "    \n",
    "    for step in range(1, n+1):\n",
    "        #print(f'step = {step}')\n",
    "        for i in range(n+1):\n",
    "            j = i + step\n",
    "            if j >= n:\n",
    "                continue\n",
    "            c[i][j] = 0\n",
    "            #print (f\"c[{i}][{j}] = {c[i][j]}\")\n",
    "            if not is_empty_set(pairs[i:j+1]):\n",
    "                for k in range(i+1,j):\n",
    "                    #check, is A_k in S_ij\n",
    "                    if (pairs[k][0] < pairs[i][1] or \n",
    "                       pairs[k][1] > pairs[j][0]):\n",
    "                        continue\n",
    "                    c[i][j] = max(c[i][j], c[i][k]+c[k][j]+1)\n",
    "                    #print (f\"k = {k}, c[{i}][{j}] = {c[i][j]}\")\n",
    "    return c[0][-1]"
   ]
  },
  {
   "cell_type": "code",
   "execution_count": 13,
   "metadata": {
    "scrolled": true
   },
   "outputs": [
    {
     "data": {
      "text/plain": [
       "6"
      ]
     },
     "execution_count": 13,
     "metadata": {},
     "output_type": "execute_result"
    }
   ],
   "source": [
    "pairs = [(1, 2), (3, 4), (5, 6), (7, 8), (9, 10), (11, 12)]\n",
    "dinamic_method(pairs)"
   ]
  },
  {
   "cell_type": "markdown",
   "metadata": {},
   "source": [
    "**greedy approach**"
   ]
  },
  {
   "cell_type": "code",
   "execution_count": 149,
   "metadata": {},
   "outputs": [],
   "source": [
    "def recursive_activity_selector(pairs, s,f,i,n, results):\n",
    "    m = i+1\n",
    "    while m <= n and s[m] < f[i]:  #search the first process in S_{i,n+1}:\n",
    "        m = m + 1\n",
    "    if m <= n:\n",
    "        results.append(pairs[m])\n",
    "        return recursive_activity_selector(pairs, s,f,m,n,results=results)\n",
    "    else:\n",
    "        return results\n",
    "    \n",
    "def greedy_method(pairs):\n",
    "    \"\"\"preprocessing wrapper\"\"\"\n",
    "    low_bound = min(a for a,b in pairs)\n",
    "    high_bound = max(b for a,b in pairs)\n",
    "    pairs = [(low_bound-20,low_bound-10)] + pairs + [(high_bound+10,high_bound+20)]\n",
    "    \n",
    "    s = [a for a,b in pairs]\n",
    "    f = [b for a,b in pairs]\n",
    "    return recursive_activity_selector(pairs, s,f,0,len(pairs)-2, [])"
   ]
  },
  {
   "cell_type": "code",
   "execution_count": 150,
   "metadata": {},
   "outputs": [
    {
     "data": {
      "text/plain": [
       "[(1, 3), (5, 6), (7, 8), (9, 10), (11, 12)]"
      ]
     },
     "execution_count": 150,
     "metadata": {},
     "output_type": "execute_result"
    }
   ],
   "source": [
    "pairs = [(1, 3), (2, 4), (5, 6), (7, 8), (9, 10), (11, 12)]\n",
    "greedy_method(pairs)"
   ]
  },
  {
   "cell_type": "markdown",
   "metadata": {},
   "source": [
    "**convert recursive algorithm to an iterative algorithm**"
   ]
  },
  {
   "cell_type": "code",
   "execution_count": 157,
   "metadata": {},
   "outputs": [],
   "source": [
    "def greedy_activity_selector(pairs):\n",
    "    #preprocessing\n",
    "    low_bound = min(a for a,b in pairs)\n",
    "    high_bound = max(b for a,b in pairs)\n",
    "    pairs = [(low_bound-20,low_bound-10)] + pairs + [(high_bound+10,high_bound+20)]\n",
    "    s = [a for a,b in pairs]\n",
    "    f = [b for a,b in pairs]\n",
    "    n = len(pairs)\n",
    "    A = []\n",
    "    i = 0\n",
    "    \n",
    "    for m in range(1,n-1):\n",
    "        if s[m] >= f[i]:\n",
    "            A.append(pairs[m])\n",
    "            i = m\n",
    "    return A"
   ]
  },
  {
   "cell_type": "code",
   "execution_count": 158,
   "metadata": {},
   "outputs": [
    {
     "data": {
      "text/plain": [
       "[(1, 3), (5, 6), (7, 8), (9, 10), (11, 12)]"
      ]
     },
     "execution_count": 158,
     "metadata": {},
     "output_type": "execute_result"
    }
   ],
   "source": [
    "pairs = [(1, 3), (2, 4), (5, 6), (7, 8), (9, 10), (11, 12)]\n",
    "greedy_activity_selector(pairs)"
   ]
  },
  {
   "cell_type": "markdown",
   "metadata": {},
   "source": [
    "**check if we get the same result using every approatch**"
   ]
  },
  {
   "cell_type": "code",
   "execution_count": 160,
   "metadata": {
    "scrolled": true
   },
   "outputs": [
    {
     "data": {
      "application/vnd.jupyter.widget-view+json": {
       "model_id": "74155e0014d741ef80baf61dbd85ea8a"
      }
     },
     "metadata": {},
     "output_type": "display_data"
    },
    {
     "name": "stdout",
     "output_type": "stream",
     "text": [
      "\n"
     ]
    }
   ],
   "source": [
    "# for testing, compare dimanic and brute-forse approatches\n",
    "for _ in tqdm_notebook(range(100)):\n",
    "    # generate processes\n",
    "    num_processes = 15\n",
    "    s = generateList(num_processes, minim=0, maxim=23)\n",
    "    f = generateList(num_processes, minim=0, maxim=23)\n",
    "    pairs = [(a, b) if a < b else (b,a) for a,b in zip(s,f)]\n",
    "    pairs = [(a, a+1) if a==b else (a,b) for (a,b) in pairs]\n",
    "    pairs.sort(key = lambda x: (x[1],x[0]))\n",
    "    \n",
    "    n1, _ = brute_forse_method(pairs)\n",
    "    n2 = dinamic_method(pairs)\n",
    "    n3 = len(greedy_method(pairs))\n",
    "    n4 = len(greedy_activity_selector(pairs))\n",
    "    if n1 == n2 == n3 == n4:\n",
    "        pass\n",
    "    else:\n",
    "        print (f\"ERROR, n1 = {n1}; n2 = {n2}; n3 = {n3}; pairs = {pairs}\")"
   ]
  },
  {
   "cell_type": "markdown",
   "metadata": {},
   "source": [
    "**compare the approatches**"
   ]
  },
  {
   "cell_type": "code",
   "execution_count": 161,
   "metadata": {},
   "outputs": [
    {
     "data": {
      "application/vnd.jupyter.widget-view+json": {
       "model_id": "d4dc8c5199a2428a986af4c0d9acbb94"
      }
     },
     "metadata": {},
     "output_type": "display_data"
    },
    {
     "name": "stdout",
     "output_type": "stream",
     "text": [
      "\n"
     ]
    }
   ],
   "source": [
    "stats = []\n",
    "for num_processes in tqdm_notebook(range(1,300)):\n",
    "    s = generateList(num_processes, minim=0, maxim=23)\n",
    "    f = generateList(num_processes, minim=0, maxim=23)\n",
    "    pairs = [(a, b) if a < b else (b,a) for a,b in zip(s,f)]\n",
    "    pairs = [(a, a+1) if a==b else (a,b) for (a,b) in pairs]\n",
    "    pairs.sort(key = lambda x: (x[1],x[0]))\n",
    "    \n",
    "    if num_processes < 20:\n",
    "        ts = time.time()\n",
    "        _,_ = brute_forse_method(pairs)\n",
    "        t1 = time.time() - ts\n",
    "    else:\n",
    "        t1 = 0\n",
    "    \n",
    "    ts = time.time()\n",
    "    _ = dinamic_method(pairs)\n",
    "    t2 = time.time() - ts\n",
    "    \n",
    "    ts = time.time()\n",
    "    _ = greedy_method(pairs)\n",
    "    t3 = time.time() - ts\n",
    "    \n",
    "    ts = time.time()\n",
    "    _ = greedy_activity_selector(pairs)\n",
    "    t4 = time.time() - ts\n",
    "    \n",
    "    stats.append((num_processes,t1,t2,t3,t4))"
   ]
  },
  {
   "cell_type": "code",
   "execution_count": 192,
   "metadata": {
    "scrolled": false
   },
   "outputs": [
    {
     "data": {
      "image/png": "[encoded data removed]",
      "text/plain": [
       "<matplotlib.figure.Figure at 0x7f415e6391d0>"
      ]
     },
     "metadata": {},
     "output_type": "display_data"
    },
    {
     "data": {
      "image/png": "[encoded data removed]",
      "text/plain": [
       "<matplotlib.figure.Figure at 0x7f415edbe828>"
      ]
     },
     "metadata": {},
     "output_type": "display_data"
    }
   ],
   "source": [
    "stats = np.array(stats)\n",
    "plt.plot(stats[:,0][stats[:,1]!=0], stats[:,1][stats[:,1]!=0], 'g.', \n",
    "         label='brute_forse_method')\n",
    "plt.plot(stats[:,0],stats[:,2], 'b.', label='dinamic_method')\n",
    "plt.plot(stats[:,0],stats[:,3], 'm.', label='greedy_method_recurse', markersize = 3)\n",
    "plt.ylabel('time (sec)')\n",
    "plt.xlabel('number of activities')\n",
    "plt.grid(True); plt.legend(); plt.show()\n",
    "\n",
    "plt.plot(stats[:,0],stats[:,3], 'm.', label='greedy_method_recurse', markersize = 3)\n",
    "plt.plot(stats[:,0],stats[:,4], 'y.', label='greedy_method_iterative', markersize = 3)\n",
    "plt.ylabel('time (sec)')\n",
    "plt.xlabel('number of activities')\n",
    "plt.grid(True); plt.legend(); plt.show()"
   ]
  },
  {
   "cell_type": "markdown",
   "metadata": {},
   "source": [
    "**Elements of greedy stratergy:**\n",
    "\n",
    "1. Determine the optimal substructure of the problem.\n",
    "2. Develop a recursive solution.\n",
    "3. Show that if we make the greedy choice, then only one subproblem remains.\n",
    "4. Prove that it is always safe to make the greedy choice. (Steps 3 and 4 can occur\n",
    "in either order.)\n",
    "5. Develop a recursive algorithm that implements the greedy strategy.\n",
    "6. Convert the recursive algorithm to an iterative algorithm."
   ]
  },
  {
   "cell_type": "code",
   "execution_count": null,
   "metadata": {},
   "outputs": [],
   "source": []
  },
  {
   "cell_type": "code",
   "execution_count": null,
   "metadata": {},
   "outputs": [],
   "source": []
  },
  {
   "cell_type": "code",
   "execution_count": null,
   "metadata": {},
   "outputs": [],
   "source": []
  },
  {
   "cell_type": "code",
   "execution_count": null,
   "metadata": {
    "collapsed": true
   },
   "outputs": [],
   "source": []
  },
  {
   "cell_type": "code",
   "execution_count": null,
   "metadata": {
    "collapsed": true
   },
   "outputs": [],
   "source": []
  }
 ],
 "metadata": {
  "kernelspec": {
   "display_name": "Python 3",
   "language": "python",
   "name": "python3"
  },
  "language_info": {
   "codemirror_mode": {
    "name": "ipython",
    "version": 3
   },
   "file_extension": ".py",
   "mimetype": "text/x-python",
   "name": "python",
   "nbconvert_exporter": "python",
   "pygments_lexer": "ipython3",
   "version": "3.6.1"
  }
 },
 "nbformat": 4,
 "nbformat_minor": 2
}
